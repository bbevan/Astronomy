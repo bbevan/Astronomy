{
 "cells": [
  {
   "cell_type": "code",
   "execution_count": 1,
   "metadata": {},
   "outputs": [],
   "source": [
    "import os\n",
    "from astropy.io import fits\n",
    "import fnmatch\n",
    "\n",
    "import shutil\n",
    "\n",
    "path = '/home/brandon/Documents/a/'"
   ]
  },
  {
   "cell_type": "code",
   "execution_count": 2,
   "metadata": {},
   "outputs": [
    {
     "data": {
      "text/plain": [
       "'/home/brandon/Documents/a/'"
      ]
     },
     "execution_count": 2,
     "metadata": {},
     "output_type": "execute_result"
    }
   ],
   "source": [
    "path"
   ]
  },
  {
   "cell_type": "code",
   "execution_count": 3,
   "metadata": {},
   "outputs": [
    {
     "ename": "NameError",
     "evalue": "name 'a' is not defined",
     "output_type": "error",
     "traceback": [
      "\u001b[0;31m---------------------------------------------------------------------------\u001b[0m",
      "\u001b[0;31mNameError\u001b[0m                                 Traceback (most recent call last)",
      "\u001b[0;32m<ipython-input-3-75904b7f719c>\u001b[0m in \u001b[0;36m<module>\u001b[0;34m()\u001b[0m\n\u001b[0;32m----> 1\u001b[0;31m \u001b[0;32mfor\u001b[0m \u001b[0mroot\u001b[0m\u001b[0;34m,\u001b[0m \u001b[0mdir\u001b[0m\u001b[0;34m,\u001b[0m \u001b[0mfiles\u001b[0m \u001b[0;32min\u001b[0m \u001b[0ma\u001b[0m\u001b[0;34m:\u001b[0m\u001b[0;34m\u001b[0m\u001b[0m\n\u001b[0m\u001b[1;32m      2\u001b[0m     \u001b[0;32mfor\u001b[0m \u001b[0mitems\u001b[0m \u001b[0;32min\u001b[0m \u001b[0mfiles\u001b[0m\u001b[0;34m:\u001b[0m\u001b[0;34m\u001b[0m\u001b[0m\n\u001b[1;32m      3\u001b[0m             \u001b[0;31m#for name in items:\u001b[0m\u001b[0;34m\u001b[0m\u001b[0;34m\u001b[0m\u001b[0m\n\u001b[1;32m      4\u001b[0m             \u001b[0;31m#fits_image_filename = fits.util.get_testdata_filepath(name)\u001b[0m\u001b[0;34m\u001b[0m\u001b[0;34m\u001b[0m\u001b[0m\n\u001b[1;32m      5\u001b[0m             \u001b[0;32mif\u001b[0m \u001b[0mfnmatch\u001b[0m\u001b[0;34m.\u001b[0m\u001b[0mfnmatch\u001b[0m\u001b[0;34m(\u001b[0m\u001b[0mitems\u001b[0m\u001b[0;34m,\u001b[0m \u001b[0;34m\"*.fits\"\u001b[0m\u001b[0;34m)\u001b[0m\u001b[0;34m:\u001b[0m\u001b[0;34m\u001b[0m\u001b[0m\n",
      "\u001b[0;31mNameError\u001b[0m: name 'a' is not defined"
     ]
    }
   ],
   "source": [
    "for root, dir, files in a:\n",
    "    for items in files:\n",
    "            #for name in items:\n",
    "            #fits_image_filename = fits.util.get_testdata_filepath(name)\n",
    "            if fnmatch.fnmatch(items, \"*.fits\"):\n",
    "                name = os.path.join(root, items)\n",
    "                print(name)\n",
    "                hdul = fits.open(name)\n",
    "                print(\"Date:\\t\\t\" + hdul[0].header['DATE'])\n",
    "                print(\"Filter:\\t\\t\" + hdul[0].header['FILTER2'])\n",
    "                print(\"Object:\\t\\t\" + hdul[0].header['OBJECT'])\n",
    "                print(\"Binning:\\t\" + hdul[1].header['CCDSUM'])\n",
    "                print(\"\\n\\n\")\n",
    "                hdul.close()"
   ]
  },
  {
   "cell_type": "code",
   "execution_count": 13,
   "metadata": {},
   "outputs": [],
   "source": [
    "def walker():\n",
    "    \n",
    "    date_folders = []\n",
    "    \n",
    "    \n",
    "    mypath = os.walk(path)\n",
    "    \n",
    "    for root, dir, files in mypath:\n",
    "        for items in files:\n",
    "            #for name in items:\n",
    "            #fits_image_filename = fits.util.get_testdata_filepath(name)\n",
    "            if fnmatch.fnmatch(items, \"S*.fits\"):\n",
    "                name = os.path.join(root, items)\n",
    "            \n",
    "                hdul = fits.open(name)\n",
    "                date_folders.append(hdul[0].header['DATE'])\n",
    "            \n",
    "    folders_set = set(date_folders)\n",
    "    \n",
    "    return folders_set\n",
    "            \n",
    "            "
   ]
  },
  {
   "cell_type": "code",
   "execution_count": 14,
   "metadata": {},
   "outputs": [
    {
     "data": {
      "text/plain": [
       "{'2012-02-22'}"
      ]
     },
     "execution_count": 14,
     "metadata": {},
     "output_type": "execute_result"
    }
   ],
   "source": [
    "walker()"
   ]
  },
  {
   "cell_type": "code",
   "execution_count": 26,
   "metadata": {},
   "outputs": [],
   "source": [
    "def maker():\n",
    "    filters_folders = ['G', 'R', 'I']\n",
    "    calib_folders = ['BIAS', 'FLAT']\n",
    "    \n",
    "    for x in walker():\n",
    "        try:\n",
    "            os.stat(x)\n",
    "        except:\n",
    "            os.mkdir(x)\n",
    "    \n",
    "    \n",
    "    \n",
    "        for y in filters_folders:\n",
    "            \n",
    "            path = x + \"/\" + y\n",
    "            \n",
    "            try:\n",
    "                os.stat(path)\n",
    "            except:\n",
    "                os.mkdir(path)\n",
    "\n",
    "        for z in calib_folders:\n",
    "            path = x + \"/\" + z\n",
    "            \n",
    "            try:\n",
    "                os.stat(path)\n",
    "            except:\n",
    "                os.mkdir(path)\n",
    "                \n"
   ]
  },
  {
   "cell_type": "code",
   "execution_count": 27,
   "metadata": {},
   "outputs": [],
   "source": [
    "maker()"
   ]
  },
  {
   "cell_type": "code",
   "execution_count": 19,
   "metadata": {},
   "outputs": [],
   "source": [
    "def mover():\n",
    "    mypath = path\n",
    "    \n",
    "    files = []\n",
    "    \n",
    "    for file in os.listdir('.'):\n",
    "        if fnmatch.fnmatch(file, \"S*.fits\"):\n",
    "        \n",
    "            files.append(file)\n",
    "    \n",
    "    for x in files:\n",
    "\n",
    "        name = os.path.join(path, x)\n",
    "        \n",
    "        hdul = fits.open(name)\n",
    "        \n",
    "        date = hdul[0].header['DATE']\n",
    "        \n",
    "        try:\n",
    "            !os.ispath(path + date)\n",
    "        except:\n",
    "            print \"ERR0R\"\n",
    "            print(path + date)\n",
    "            return\n",
    "        \n",
    "        print(\"Attempting to move \" + x)\n",
    "        shutil.copy(name, date)"
   ]
  },
  {
   "cell_type": "code",
   "execution_count": 20,
   "metadata": {},
   "outputs": [
    {
     "name": "stdout",
     "output_type": "stream",
     "text": [
      "/bin/sh: 1: Syntax error: word unexpected (expecting \")\")\n",
      "Attempting to move S20120222S0039.fits\n",
      "/bin/sh: 1: Syntax error: word unexpected (expecting \")\")\n",
      "Attempting to move S20120222S0035.fits\n",
      "/bin/sh: 1: Syntax error: word unexpected (expecting \")\")\n",
      "Attempting to move S20120222S0036.fits\n",
      "/bin/sh: 1: Syntax error: word unexpected (expecting \")\")\n",
      "Attempting to move S20120222S0038.fits\n",
      "/bin/sh: 1: Syntax error: word unexpected (expecting \")\")\n",
      "Attempting to move S20120222S0037.fits\n"
     ]
    }
   ],
   "source": [
    "mover()"
   ]
  },
  {
   "cell_type": "code",
   "execution_count": null,
   "metadata": {},
   "outputs": [],
   "source": []
  }
 ],
 "metadata": {
  "kernelspec": {
   "display_name": "Python 2",
   "language": "python",
   "name": "python2"
  },
  "language_info": {
   "codemirror_mode": {
    "name": "ipython",
    "version": 2
   },
   "file_extension": ".py",
   "mimetype": "text/x-python",
   "name": "python",
   "nbconvert_exporter": "python",
   "pygments_lexer": "ipython2",
   "version": "2.7.14"
  }
 },
 "nbformat": 4,
 "nbformat_minor": 2
}
