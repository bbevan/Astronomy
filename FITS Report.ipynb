{
 "cells": [
  {
   "cell_type": "code",
   "execution_count": 1,
   "metadata": {},
   "outputs": [],
   "source": [
    "import os\n",
    "from astropy.io import fits\n",
    "import fnmatch"
   ]
  },
  {
   "cell_type": "code",
   "execution_count": 2,
   "metadata": {},
   "outputs": [],
   "source": [
    "a = os.walk('/home/brandon/Documents/a')"
   ]
  },
  {
   "cell_type": "code",
   "execution_count": 3,
   "metadata": {},
   "outputs": [
    {
     "name": "stdout",
     "output_type": "stream",
     "text": [
      "/home/brandon/Documents/a/c/S20120222S0039.fits\n",
      "2012-02-22\n",
      "g_G0325\n",
      "\n",
      "\n",
      "\n",
      "/home/brandon/Documents/a/c/S20120222S0035.fits\n",
      "2012-02-22\n",
      "g_G0325\n",
      "\n",
      "\n",
      "\n",
      "/home/brandon/Documents/a/c/S20120222S0036.fits\n",
      "2012-02-22\n",
      "g_G0325\n",
      "\n",
      "\n",
      "\n",
      "/home/brandon/Documents/a/c/S20120222S0038.fits\n",
      "2012-02-22\n",
      "g_G0325\n",
      "\n",
      "\n",
      "\n",
      "/home/brandon/Documents/a/c/S20120222S0037.fits\n",
      "2012-02-22\n",
      "g_G0325\n",
      "\n",
      "\n",
      "\n",
      "/home/brandon/Documents/a/d/S20120222S0040.fits\n",
      "2012-02-22\n",
      "g_G0325\n",
      "\n",
      "\n",
      "\n",
      "/home/brandon/Documents/a/b/mrgS20120222S0035_add.fits\n",
      "2012-02-22T14:45:17\n",
      "g_G0325\n",
      "\n",
      "\n",
      "\n"
     ]
    }
   ],
   "source": [
    "for root, dir, files in a:\n",
    "    for items in files:\n",
    "            #for name in items:\n",
    "            #fits_image_filename = fits.util.get_testdata_filepath(name)\n",
    "            if fnmatch.fnmatch(items, \"*.fits\"):\n",
    "                name = os.path.join(root, items)\n",
    "                print(name)\n",
    "                hdul = fits.open(name)\n",
    "                print(hdul[0].header['DATE'])\n",
    "                print(hdul[0].header['FILTER2'])\n",
    "                print(\"\\n\\n\")\n",
    "                hdul.close()"
   ]
  },
  {
   "cell_type": "code",
   "execution_count": null,
   "metadata": {},
   "outputs": [],
   "source": []
  }
 ],
 "metadata": {
  "kernelspec": {
   "display_name": "Python 3",
   "language": "python",
   "name": "python3"
  },
  "language_info": {
   "codemirror_mode": {
    "name": "ipython",
    "version": 3
   },
   "file_extension": ".py",
   "mimetype": "text/x-python",
   "name": "python",
   "nbconvert_exporter": "python",
   "pygments_lexer": "ipython3",
   "version": "3.5.5"
  }
 },
 "nbformat": 4,
 "nbformat_minor": 2
}
